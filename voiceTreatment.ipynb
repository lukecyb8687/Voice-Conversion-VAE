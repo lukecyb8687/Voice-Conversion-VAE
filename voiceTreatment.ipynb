{
  "nbformat": 4,
  "nbformat_minor": 0,
  "metadata": {
    "colab": {
      "name": "voiceTreatment.ipynb",
      "provenance": [],
      "collapsed_sections": []
    },
    "kernelspec": {
      "name": "python3",
      "display_name": "Python 3"
    }
  },
  "cells": [
    {
      "cell_type": "markdown",
      "metadata": {
        "id": "OcQEJOfaV_Fd",
        "colab_type": "text"
      },
      "source": [
        "# **Dependencies**"
      ]
    },
    {
      "cell_type": "code",
      "metadata": {
        "id": "nqYz9s3OTO-V",
        "colab_type": "code",
        "colab": {}
      },
      "source": [
        "import librosa\n",
        "from scipy.io import wavfile\n",
        "import scipy\n",
        "import numpy as np\n",
        "import os\n",
        "from os.path import join\n",
        "import numpy as np\n",
        "!pip install pyworld\n",
        "import pyworld as pw\n",
        "import tensorflow as tf\n",
        "import matplotlib.pyplot as plt\n",
        "\n",
        "\n",
        "\n"
      ],
      "execution_count": 0,
      "outputs": []
    },
    {
      "cell_type": "code",
      "metadata": {
        "id": "6CIJVqQFTP-l",
        "colab_type": "code",
        "colab": {}
      },
      "source": [
        "# Load the Drive helper and mount\n",
        "from google.colab import drive\n",
        "\n",
        "# This will prompt for authorization.\n",
        "drive.mount('/content/drive')"
      ],
      "execution_count": 0,
      "outputs": []
    },
    {
      "cell_type": "markdown",
      "metadata": {
        "id": "1dcV39DpTpGd",
        "colab_type": "text"
      },
      "source": [
        "# **Parameters**"
      ]
    },
    {
      "cell_type": "code",
      "metadata": {
        "id": "aYw-GlRlTQeq",
        "colab_type": "code",
        "colab": {}
      },
      "source": [
        "EPSILON = 1e-10\n",
        "SETS = ['Training Set', 'Testing Set']  # TODO: for VCC2016 only\n",
        "SPEAKERS = [s.strip() for s in tf.io.gfile.GFile('/content/drive/My Drive/speakers.tsv', 'r').readlines()]\n",
        "FFT_SIZE = 1024\n",
        "SP_DIM = FFT_SIZE // 2 + 1 # =513\n",
        "FEAT_DIM = SP_DIM + SP_DIM + 1 + 1 + 1  # [sp, ap, f0, en, s] = 1029\n",
        "RECORD_BYTES = FEAT_DIM * 4  # all features saved in `float32` = 4116\n",
        "f0_ceil = 500"
      ],
      "execution_count": 0,
      "outputs": []
    },
    {
      "cell_type": "markdown",
      "metadata": {
        "id": "CZuRat80WF9G",
        "colab_type": "text"
      },
      "source": [
        "# **wav2pw() function**\n",
        "The pyworld package and its subpackages (dio, stonemask, cheaptrick and d4c) would return the spectral envelope (SP), aperiodocity (AP), fundamental frequency (f0) of the specified {}.wav file. \\\\\n",
        "The f0 ceiling is set such that we only filter the lower frequencies. There would be 513 instances of SP and 513 instances of AP."
      ]
    },
    {
      "cell_type": "code",
      "metadata": {
        "id": "p7OKUf4wTtCb",
        "colab_type": "code",
        "colab": {}
      },
      "source": [
        "def wav2pw(x, fs=16000, fft_size=FFT_SIZE):\n",
        "    _f0, timeaxis = pw.dio(x, fs, f0_ceil = f0_ceil) # _f0 = Raw pitch\n",
        "    f0 = pw.stonemask(x, _f0, timeaxis, fs)  # f0 = Refined pitch\n",
        "    sp = pw.cheaptrick(x, f0, timeaxis, fs, fft_size=fft_size) # sp = spectogram spectral smoothing\n",
        "    ap = pw.d4c(x, f0, timeaxis, fs, fft_size=fft_size) # extract aperiodicity\n",
        "    return {\n",
        "      'f0': f0,\n",
        "      'sp': sp,\n",
        "      'ap': ap,\n",
        "    }\n",
        "    \n"
      ],
      "execution_count": 0,
      "outputs": []
    },
    {
      "cell_type": "markdown",
      "metadata": {
        "id": "uhGy9H6BWYab",
        "colab_type": "text"
      },
      "source": [
        "# **analysis() function**\n",
        "\n",
        "In this function, we use the librosa package to acquire the amplitude and sampling rate of the audio file. The amplitude is then being used by the wav2pw() module. We add in a normalizing factor (summation of SP + epsilon), and refined the spectrogram of the spectral envelope on a logarithm scale.\n",
        "\n",
        "Each single audio file would have a varying length of fundamental frequency depending on the length of the audio. For example: For SF1/100001.wav, we have 704 instances of f0. While for SF1/100002.wav, we have 216 instances of f0. This is because the audio duration for SF1/100001.wav is longer than SF1/100001.wav. However, the featured dimensions remain the same: For each instance of f0, we still have 513 instances of SP and 513 instances of AP."
      ]
    },
    {
      "cell_type": "code",
      "metadata": {
        "id": "ye_co1inWYp5",
        "colab_type": "code",
        "colab": {}
      },
      "source": [
        "def analysis(filename, fft_size=FFT_SIZE, dtype=np.float32):\n",
        "    ''' Basic (WORLD) feature extraction ''' \n",
        "    fs = 16000\n",
        "    x, _ = librosa.load(filename, sr=fs, mono=True, dtype=np.float64) #audio time series, sampling rate\n",
        "    features = wav2pw(x, fs=16000, fft_size=fft_size)\n",
        "    ap = features['ap']\n",
        "    f0 = features['f0'].reshape([-1, 1]) #rows = unknown, columns = 1\n",
        "    sp = features['sp']\n",
        "    en = np.sum(sp + EPSILON, axis=1, keepdims=True) # Normalizing Factor\n",
        "    sp_r = np.log10(sp / en) # Refined Spectrogram Normalization\n",
        "    target = np.concatenate([sp_r, ap, f0, en], axis=1).astype(dtype)\n",
        "    return target #add elements together based on position. Target for this file has 704 rows and 1028 columns"
      ],
      "execution_count": 0,
      "outputs": []
    },
    {
      "cell_type": "markdown",
      "metadata": {
        "id": "XFDGXZTmW7Fd",
        "colab_type": "text"
      },
      "source": [
        "# **Example (Visualization of Spectral Envelope)**"
      ]
    },
    {
      "cell_type": "code",
      "metadata": {
        "id": "Rka84AfsT4W4",
        "colab_type": "code",
        "colab": {}
      },
      "source": [
        "filename1 = '/content/drive/My Drive/dataset/vcc2016/wav/Training Set/SF1/100002.wav'\n",
        "a = analysis(filename1, fft_size=FFT_SIZE, dtype=np.float32)\n",
        "x, _ = librosa.load(filename1, sr=16000, mono=True, dtype=np.float64)\n",
        "b =wav2pw(x, fs=16000, fft_size=FFT_SIZE)"
      ],
      "execution_count": 0,
      "outputs": []
    },
    {
      "cell_type": "code",
      "metadata": {
        "id": "q0GJHzuDT49u",
        "colab_type": "code",
        "colab": {
          "base_uri": "https://localhost:8080/",
          "height": 283
        },
        "outputId": "40061c98-765e-4263-c987-ad2c0335cf6a"
      },
      "source": [
        "print(\" Example: At a fundamental frequency of:\", b['f0'][38], \"Hz, The spectral envelope is as shown:\", plt.plot(b['sp'][38]))"
      ],
      "execution_count": 8,
      "outputs": [
        {
          "output_type": "stream",
          "text": [
            " Example: At a fundamental frequency of: 212.43134419873914 Hz, The spectral envelope is as shown: [<matplotlib.lines.Line2D object at 0x7f704e478048>]\n"
          ],
          "name": "stdout"
        },
        {
          "output_type": "display_data",
          "data": {
            "image/png": "[encoded data removed]",
            "text/plain": [
              "<Figure size 432x288 with 1 Axes>"
            ]
          },
          "metadata": {
            "tags": []
          }
        }
      ]
    }
  ]
}