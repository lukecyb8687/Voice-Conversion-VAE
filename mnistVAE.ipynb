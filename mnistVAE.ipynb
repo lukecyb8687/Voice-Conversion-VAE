{
  "nbformat": 4,
  "nbformat_minor": 0,
  "metadata": {
    "kernelspec": {
      "display_name": "Python 3",
      "language": "python",
      "name": "python3"
    },
    "language_info": {
      "codemirror_mode": {
        "name": "ipython",
        "version": 3
      },
      "file_extension": ".py",
      "mimetype": "text/x-python",
      "name": "python",
      "nbconvert_exporter": "python",
      "pygments_lexer": "ipython3",
      "version": "3.7.4"
    },
    "colab": {
      "name": "mnistVAE.ipynb",
      "provenance": []
    }
  },
  "cells": [
    {
      "cell_type": "markdown",
      "metadata": {
        "id": "jqhaQvvV8kwG",
        "colab_type": "text"
      },
      "source": [
        "# Variational autoencoders \n",
        "Acknowledgment: Some pieces of code are taken from this tutorial \n",
        "https://tiao.io/post/tutorial-on-variational-autoencoders-with-a-concise-keras-implementation/\n",
        "\n",
        "In this tutorial, we will be using Keras to implement a variational autoencoder which will have a number in a given style as an input and the same number in different other styles as an output.\n",
        "\n",
        "##### Keras\n",
        "It is an open-source neural-network library written in Python. It is capable of running on top of TensorFlow, Microsoft Cognitive Toolkit, R, Theano, or PlaidML.\n",
        "Designed to enable fast experimentation with deep neural networks, it focuses on being user-friendly, modular and extensible.\n",
        "\n",
        "##### libraries\n"
      ]
    },
    {
      "cell_type": "code",
      "metadata": {
        "id": "esUKWP3u8kwJ",
        "colab_type": "code",
        "outputId": "81f1d5bb-6708-4f60-cc62-8dbf97d618e9",
        "colab": {
          "base_uri": "https://localhost:8080/",
          "height": 35
        }
      },
      "source": [
        "import numpy as np\n",
        "import matplotlib.pyplot as plt\n",
        "from scipy.stats import norm\n",
        "\n",
        "from keras import backend as K\n",
        "import keras as Keras \n",
        "\n",
        "from keras.layers import (Input, InputLayer, Dense, Lambda, Layer, Add, Multiply)\n",
        "from keras.models import Model, Sequential\n",
        "from keras.datasets import mnist\n",
        "\n",
        "import pandas as pd\n",
        "\n",
        "from matplotlib.ticker import FormatStrFormatter\n",
        "from keras.utils.vis_utils import model_to_dot, plot_model\n",
        "from IPython.display import SVG\n",
        "\n",
        "import tensorflow as tf"
      ],
      "execution_count": 1,
      "outputs": [
        {
          "output_type": "stream",
          "text": [
            "Using TensorFlow backend.\n"
          ],
          "name": "stderr"
        }
      ]
    },
    {
      "cell_type": "markdown",
      "metadata": {
        "id": "1zMoWfKY8kwR",
        "colab_type": "text"
      },
      "source": [
        "# **Notebook configuration**"
      ]
    },
    {
      "cell_type": "code",
      "metadata": {
        "id": "_-XA9JU98kwU",
        "colab_type": "code",
        "colab": {}
      },
      "source": [
        "np.set_printoptions(precision=2,\n",
        "                    edgeitems=3,\n",
        "                    linewidth=80,\n",
        "                    suppress=True)\n",
        "#These options determine the way floating point numbers, arrays and other NumPy objects are displayed."
      ],
      "execution_count": 0,
      "outputs": []
    },
    {
      "cell_type": "markdown",
      "metadata": {
        "id": "pV6EIY0j8kwb",
        "colab_type": "text"
      },
      "source": [
        "# **Dataset (MNIST)**"
      ]
    },
    {
      "cell_type": "code",
      "metadata": {
        "id": "5cwU1GYq8kwd",
        "colab_type": "code",
        "outputId": "18c46c94-5856-4dd6-e567-915dcca1c71e",
        "colab": {
          "base_uri": "https://localhost:8080/",
          "height": 52
        }
      },
      "source": [
        "#Mnist dataset\n",
        "# x are the pictures of the digits and y are the labels of digits \n",
        "(x_train, y_train), (x_test, y_test) = mnist.load_data()\n",
        "x_train = np.expand_dims(x_train, axis=-1) / 255.\n",
        "x_test = np.expand_dims(x_test, axis=-1) / 255.\n",
        "#Dimensions \n",
        "img_rows, img_cols, img_chns = x_train.shape[1:]"
      ],
      "execution_count": 3,
      "outputs": [
        {
          "output_type": "stream",
          "text": [
            "Downloading data from https://s3.amazonaws.com/img-datasets/mnist.npz\n",
            "11493376/11490434 [==============================] - 2s 0us/step\n"
          ],
          "name": "stdout"
        }
      ]
    },
    {
      "cell_type": "code",
      "metadata": {
        "id": "jUc6XZLDU_Yf",
        "colab_type": "code",
        "colab": {}
      },
      "source": [
        "(x_train, y_train), (x_test, y_test) = mnist.load_data()\n",
        "x_train = np.expand_dims(x_train, axis=-1) / 255.\n"
      ],
      "execution_count": 0,
      "outputs": []
    },
    {
      "cell_type": "code",
      "metadata": {
        "id": "14pvNseK8yTG",
        "colab_type": "code",
        "outputId": "18d83896-285b-4d32-ba56-0ec67fef283f",
        "colab": {
          "base_uri": "https://localhost:8080/",
          "height": 35
        }
      },
      "source": [
        "x_train.shape[1:]"
      ],
      "execution_count": 5,
      "outputs": [
        {
          "output_type": "execute_result",
          "data": {
            "text/plain": [
              "(28, 28, 1)"
            ]
          },
          "metadata": {
            "tags": []
          },
          "execution_count": 5
        }
      ]
    },
    {
      "cell_type": "markdown",
      "metadata": {
        "id": "w_TAYAeFDEwE",
        "colab_type": "text"
      },
      "source": [
        "As seen from the shape of the x_train data, it has 28 rows and 28 columns (28x28 pixels), with each value being kept as an array. **Hence, the data is 784 dimensional**\n"
      ]
    },
    {
      "cell_type": "markdown",
      "metadata": {
        "id": "Rr0F-90K8kwn",
        "colab_type": "text"
      },
      "source": [
        "# **Constant definitions**"
      ]
    },
    {
      "cell_type": "code",
      "metadata": {
        "id": "MizQLsTa8kws",
        "colab_type": "code",
        "colab": {}
      },
      "source": [
        "# Y in a one-hot vector which gives the class of the digit (from 0 to 9).So it has a dimension of 10.\n",
        "Y_dim=10\n",
        "Y_embed_dim = 128\n",
        "Z_dim=128\n",
        "#the dimension of the input of the VAE\n",
        "original_dim = img_rows * img_cols+Y_dim\n",
        "#the dimension of the intermediate layer \n",
        "intermediate_dim = 256\n",
        "#the dimension of the latent variable (Z+Y)\n",
        "latent_dim = Y_dim+Z_dim\n",
        "#training constants\n",
        "batch_size = 100\n",
        "epochs = 50\n",
        "epsilon_std = 1.0"
      ],
      "execution_count": 0,
      "outputs": []
    },
    {
      "cell_type": "markdown",
      "metadata": {
        "id": "RQUjfUmW8kw3",
        "colab_type": "text"
      },
      "source": [
        "# **Negative log likelihood (Bernoulli)**\n",
        "## This first term is the **reconstruction loss** (the negative log likelihood of the *i*-th data point)"
      ]
    },
    {
      "cell_type": "code",
      "metadata": {
        "id": "YAnH8_bE8kw5",
        "colab_type": "code",
        "colab": {}
      },
      "source": [
        "def nll(y_true, y_pred):\n",
        "    \"\"\" Negative log likelihood (Bernoulli). \"\"\"\n",
        "\n",
        "    # keras.losses.binary_crossentropy gives the mean\n",
        "    # over the last axis. we require the sum\n",
        "    return K.sum(K.binary_crossentropy(y_true, y_pred), axis=-1)"
      ],
      "execution_count": 0,
      "outputs": []
    },
    {
      "cell_type": "markdown",
      "metadata": {
        "id": "Qm30QC3E8kxC",
        "colab_type": "text"
      },
      "source": [
        "# **KL-Divergence**"
      ]
    },
    {
      "cell_type": "code",
      "metadata": {
        "id": "jTtVJPDW8kxG",
        "colab_type": "code",
        "colab": {}
      },
      "source": [
        "class KLDivergenceLayer(Layer):\n",
        "\n",
        "    \"\"\" Identity transform layer that adds KL divergence\n",
        "    to the final model loss.\n",
        "    \"\"\"\n",
        "\n",
        "    def __init__(self, *args, **kwargs):\n",
        "        self.is_placeholder = True\n",
        "        super(KLDivergenceLayer, self).__init__(*args, **kwargs)\n",
        "\n",
        "    def call(self, inputs):\n",
        "\n",
        "        mu, log_var = inputs\n",
        "\n",
        "        kl_batch = - .5 * K.sum(1 + log_var -\n",
        "                                K.square(mu) -\n",
        "                                K.exp(log_var), axis=-1)\n",
        "\n",
        "        self.add_loss(K.mean(kl_batch), inputs=inputs)\n",
        "\n",
        "        return inputs\n"
      ],
      "execution_count": 0,
      "outputs": []
    },
    {
      "cell_type": "markdown",
      "metadata": {
        "id": "FYny2IjrGFGL",
        "colab_type": "text"
      },
      "source": [
        "# **The Re-parametrization trick**\n",
        "\n",
        "## The re-parametrization trick allows us to include the randomness of a normally distributed random variable *Z* into epsilon, where ϵ ~ *N(0,1)*:\n",
        "\n",
        "\n",
        "```\n",
        "Z= μ + σ.ϵ\n",
        "```\n",
        "\n"
      ]
    },
    {
      "cell_type": "markdown",
      "metadata": {
        "id": "rIuJ5owfO9y-",
        "colab_type": "text"
      },
      "source": [
        "The encoder q(z|x) is a neural network that encodes the 784 dimensional data into a latent representaion space Z which is 128 dimensional.\n",
        "\n",
        "The decoder p(x|z) is a neural network takes in the input of representation *z* and outputs 784 bernoulli parameters (one for each pixel in the image). \n",
        "\n"
      ]
    },
    {
      "cell_type": "code",
      "metadata": {
        "id": "a8w1RatL8kxM",
        "colab_type": "code",
        "colab": {}
      },
      "source": [
        "#Encoder\n",
        "#Inference network\n",
        "x = Input(shape=(original_dim,),name='x') # Shape = 784+10\n",
        "h = Dense(intermediate_dim, activation='relu',name='hidden_layer_encoder')(x)\n",
        "\n",
        "z_mu = Dense(Z_dim, name='mu')(h)\n",
        "z_log_var = Dense(Z_dim, name='log_var')(h)\n",
        "\n",
        "z_mu, z_log_var = KLDivergenceLayer(name='KLDivergence')([z_mu, z_log_var])\n",
        "z_sigma = Lambda(lambda t: K.exp(.5*t), name='sigma')(z_log_var)\n",
        "\n",
        "# Reparameterization with Merge Layers\n",
        "eps = Input(tensor=K.random_normal(shape=(K.shape(x)[0], \n",
        "                                          Z_dim)), name='epsilon')\n",
        "\n",
        "z_eps = Multiply(name='z_eps')([z_sigma, eps])\n",
        "Z = Add(name='z')([z_mu, z_eps])\n",
        "Y=Input(tensor=tf.slice(x,[0,0],[-1,Y_dim]), name='Y')\n",
        "zy=Keras.layers.Concatenate(name='z_Y')([Z, Y])\n",
        "\n",
        "#Decoder\n",
        "decoder = Sequential([\n",
        "    Dense(intermediate_dim, input_dim=latent_dim, activation='relu', name='hidden_dec'),\n",
        "    Dense(original_dim, activation='sigmoid', name='x_pred')\n",
        "], name='decoder')\n",
        "\n",
        "#Output\n",
        "x_pred = decoder(zy)"
      ],
      "execution_count": 0,
      "outputs": []
    },
    {
      "cell_type": "markdown",
      "metadata": {
        "id": "FgOrbcVk8kxT",
        "colab_type": "text"
      },
      "source": [
        "\n",
        "# **Specifying the VAE**"
      ]
    },
    {
      "cell_type": "code",
      "metadata": {
        "id": "AJk1UyAU8kxV",
        "colab_type": "code",
        "colab": {}
      },
      "source": [
        "vae = Model(inputs=[x, eps ,Y], outputs=x_pred, name='vae')\n",
        "vae.compile(optimizer='rmsprop', loss=nll)"
      ],
      "execution_count": 0,
      "outputs": []
    },
    {
      "cell_type": "markdown",
      "metadata": {
        "id": "SaGUe1Ly8kxd",
        "colab_type": "text"
      },
      "source": [
        "# **Simplified architecture visualization**"
      ]
    },
    {
      "cell_type": "code",
      "metadata": {
        "id": "vV1gw3DN8kxf",
        "colab_type": "code",
        "outputId": "abc0016e-39ba-4925-da5d-e4353844b3cd",
        "colab": {
          "base_uri": "https://localhost:8080/",
          "height": 1000
        }
      },
      "source": [
        "import pydotplus\n",
        "import pydot\n",
        "from keras.utils.vis_utils import model_to_dot\n",
        "import keras\n",
        "keras.utils.vis_utils.pydot = pydot\n",
        "\n",
        "SVG(model_to_dot(vae, show_shapes=True)\n",
        "    .create(prog='dot', format='svg'))\n"
      ],
      "execution_count": 20,
      "outputs": [
        {
          "output_type": "execute_result",
          "data": {
            "text/plain": [
              "<IPython.core.display.SVG object>"
            ],
            "image/svg+xml": "<svg height=\"959pt\" viewBox=\"0.00 0.00 875.50 719.00\" width=\"1167pt\" xmlns=\"http://www.w3.org/2000/svg\" xmlns:xlink=\"http://www.w3.org/1999/xlink\">\n<g class=\"graph\" id=\"graph0\" transform=\"scale(1.3333 1.3333) rotate(0) translate(4 715)\">\n<title>G</title>\n<polygon fill=\"#ffffff\" points=\"-4,4 -4,-715 871.5,-715 871.5,4 -4,4\" stroke=\"transparent\"/>\n<!-- 139965709633688 -->\n<g class=\"node\" id=\"node1\">\n<title>139965709633688</title>\n<polygon fill=\"none\" points=\"227,-664.5 227,-710.5 467,-710.5 467,-664.5 227,-664.5\" stroke=\"#000000\"/>\n<text fill=\"#000000\" font-family=\"Times,serif\" font-size=\"14.00\" text-anchor=\"middle\" x=\"274.5\" y=\"-683.8\">x: InputLayer</text>\n<polyline fill=\"none\" points=\"322,-664.5 322,-710.5 \" stroke=\"#000000\"/>\n<text fill=\"#000000\" font-family=\"Times,serif\" font-size=\"14.00\" text-anchor=\"middle\" x=\"351\" y=\"-695.3\">input:</text>\n<polyline fill=\"none\" points=\"322,-687.5 380,-687.5 \" stroke=\"#000000\"/>\n<text fill=\"#000000\" font-family=\"Times,serif\" font-size=\"14.00\" text-anchor=\"middle\" x=\"351\" y=\"-672.3\">output:</text>\n<polyline fill=\"none\" points=\"380,-664.5 380,-710.5 \" stroke=\"#000000\"/>\n<text fill=\"#000000\" font-family=\"Times,serif\" font-size=\"14.00\" text-anchor=\"middle\" x=\"423.5\" y=\"-695.3\">(None, 794)</text>\n<polyline fill=\"none\" points=\"380,-687.5 467,-687.5 \" stroke=\"#000000\"/>\n<text fill=\"#000000\" font-family=\"Times,serif\" font-size=\"14.00\" text-anchor=\"middle\" x=\"423.5\" y=\"-672.3\">(None, 794)</text>\n</g>\n<!-- 139965709633408 -->\n<g class=\"node\" id=\"node2\">\n<title>139965709633408</title>\n<polygon fill=\"none\" points=\"181,-581.5 181,-627.5 513,-627.5 513,-581.5 181,-581.5\" stroke=\"#000000\"/>\n<text fill=\"#000000\" font-family=\"Times,serif\" font-size=\"14.00\" text-anchor=\"middle\" x=\"274.5\" y=\"-600.8\">hidden_layer_encoder: Dense</text>\n<polyline fill=\"none\" points=\"368,-581.5 368,-627.5 \" stroke=\"#000000\"/>\n<text fill=\"#000000\" font-family=\"Times,serif\" font-size=\"14.00\" text-anchor=\"middle\" x=\"397\" y=\"-612.3\">input:</text>\n<polyline fill=\"none\" points=\"368,-604.5 426,-604.5 \" stroke=\"#000000\"/>\n<text fill=\"#000000\" font-family=\"Times,serif\" font-size=\"14.00\" text-anchor=\"middle\" x=\"397\" y=\"-589.3\">output:</text>\n<polyline fill=\"none\" points=\"426,-581.5 426,-627.5 \" stroke=\"#000000\"/>\n<text fill=\"#000000\" font-family=\"Times,serif\" font-size=\"14.00\" text-anchor=\"middle\" x=\"469.5\" y=\"-612.3\">(None, 794)</text>\n<polyline fill=\"none\" points=\"426,-604.5 513,-604.5 \" stroke=\"#000000\"/>\n<text fill=\"#000000\" font-family=\"Times,serif\" font-size=\"14.00\" text-anchor=\"middle\" x=\"469.5\" y=\"-589.3\">(None, 256)</text>\n</g>\n<!-- 139965709633688&#45;&gt;139965709633408 -->\n<g class=\"edge\" id=\"edge1\">\n<title>139965709633688-&gt;139965709633408</title>\n<path d=\"M347,-664.3799C347,-656.1745 347,-646.7679 347,-637.8786\" fill=\"none\" stroke=\"#000000\"/>\n<polygon fill=\"#000000\" points=\"350.5001,-637.784 347,-627.784 343.5001,-637.784 350.5001,-637.784\" stroke=\"#000000\"/>\n</g>\n<!-- 139965709634248 -->\n<g class=\"node\" id=\"node3\">\n<title>139965709634248</title>\n<polygon fill=\"none\" points=\"108.5,-498.5 108.5,-544.5 331.5,-544.5 331.5,-498.5 108.5,-498.5\" stroke=\"#000000\"/>\n<text fill=\"#000000\" font-family=\"Times,serif\" font-size=\"14.00\" text-anchor=\"middle\" x=\"147.5\" y=\"-517.8\">mu: Dense</text>\n<polyline fill=\"none\" points=\"186.5,-498.5 186.5,-544.5 \" stroke=\"#000000\"/>\n<text fill=\"#000000\" font-family=\"Times,serif\" font-size=\"14.00\" text-anchor=\"middle\" x=\"215.5\" y=\"-529.3\">input:</text>\n<polyline fill=\"none\" points=\"186.5,-521.5 244.5,-521.5 \" stroke=\"#000000\"/>\n<text fill=\"#000000\" font-family=\"Times,serif\" font-size=\"14.00\" text-anchor=\"middle\" x=\"215.5\" y=\"-506.3\">output:</text>\n<polyline fill=\"none\" points=\"244.5,-498.5 244.5,-544.5 \" stroke=\"#000000\"/>\n<text fill=\"#000000\" font-family=\"Times,serif\" font-size=\"14.00\" text-anchor=\"middle\" x=\"288\" y=\"-529.3\">(None, 256)</text>\n<polyline fill=\"none\" points=\"244.5,-521.5 331.5,-521.5 \" stroke=\"#000000\"/>\n<text fill=\"#000000\" font-family=\"Times,serif\" font-size=\"14.00\" text-anchor=\"middle\" x=\"288\" y=\"-506.3\">(None, 128)</text>\n</g>\n<!-- 139965709633408&#45;&gt;139965709634248 -->\n<g class=\"edge\" id=\"edge2\">\n<title>139965709633408-&gt;139965709634248</title>\n<path d=\"M311.6234,-581.3799C296.8848,-571.7475 279.613,-560.4597 264.0625,-550.2967\" fill=\"none\" stroke=\"#000000\"/>\n<polygon fill=\"#000000\" points=\"265.913,-547.325 255.6273,-544.784 262.0834,-553.1846 265.913,-547.325\" stroke=\"#000000\"/>\n</g>\n<!-- 139965709634472 -->\n<g class=\"node\" id=\"node4\">\n<title>139965709634472</title>\n<polygon fill=\"none\" points=\"349.5,-498.5 349.5,-544.5 598.5,-544.5 598.5,-498.5 349.5,-498.5\" stroke=\"#000000\"/>\n<text fill=\"#000000\" font-family=\"Times,serif\" font-size=\"14.00\" text-anchor=\"middle\" x=\"401.5\" y=\"-517.8\">log_var: Dense</text>\n<polyline fill=\"none\" points=\"453.5,-498.5 453.5,-544.5 \" stroke=\"#000000\"/>\n<text fill=\"#000000\" font-family=\"Times,serif\" font-size=\"14.00\" text-anchor=\"middle\" x=\"482.5\" y=\"-529.3\">input:</text>\n<polyline fill=\"none\" points=\"453.5,-521.5 511.5,-521.5 \" stroke=\"#000000\"/>\n<text fill=\"#000000\" font-family=\"Times,serif\" font-size=\"14.00\" text-anchor=\"middle\" x=\"482.5\" y=\"-506.3\">output:</text>\n<polyline fill=\"none\" points=\"511.5,-498.5 511.5,-544.5 \" stroke=\"#000000\"/>\n<text fill=\"#000000\" font-family=\"Times,serif\" font-size=\"14.00\" text-anchor=\"middle\" x=\"555\" y=\"-529.3\">(None, 256)</text>\n<polyline fill=\"none\" points=\"511.5,-521.5 598.5,-521.5 \" stroke=\"#000000\"/>\n<text fill=\"#000000\" font-family=\"Times,serif\" font-size=\"14.00\" text-anchor=\"middle\" x=\"555\" y=\"-506.3\">(None, 128)</text>\n</g>\n<!-- 139965709633408&#45;&gt;139965709634472 -->\n<g class=\"edge\" id=\"edge3\">\n<title>139965709633408-&gt;139965709634472</title>\n<path d=\"M382.3766,-581.3799C397.1152,-571.7475 414.387,-560.4597 429.9375,-550.2967\" fill=\"none\" stroke=\"#000000\"/>\n<polygon fill=\"#000000\" points=\"431.9166,-553.1846 438.3727,-544.784 428.087,-547.325 431.9166,-553.1846\" stroke=\"#000000\"/>\n</g>\n<!-- 139965709635144 -->\n<g class=\"node\" id=\"node5\">\n<title>139965709635144</title>\n<polygon fill=\"none\" points=\"117.5,-415.5 117.5,-461.5 576.5,-461.5 576.5,-415.5 117.5,-415.5\" stroke=\"#000000\"/>\n<text fill=\"#000000\" font-family=\"Times,serif\" font-size=\"14.00\" text-anchor=\"middle\" x=\"231\" y=\"-434.8\">KLDivergence: KLDivergenceLayer</text>\n<polyline fill=\"none\" points=\"344.5,-415.5 344.5,-461.5 \" stroke=\"#000000\"/>\n<text fill=\"#000000\" font-family=\"Times,serif\" font-size=\"14.00\" text-anchor=\"middle\" x=\"373.5\" y=\"-446.3\">input:</text>\n<polyline fill=\"none\" points=\"344.5,-438.5 402.5,-438.5 \" stroke=\"#000000\"/>\n<text fill=\"#000000\" font-family=\"Times,serif\" font-size=\"14.00\" text-anchor=\"middle\" x=\"373.5\" y=\"-423.3\">output:</text>\n<polyline fill=\"none\" points=\"402.5,-415.5 402.5,-461.5 \" stroke=\"#000000\"/>\n<text fill=\"#000000\" font-family=\"Times,serif\" font-size=\"14.00\" text-anchor=\"middle\" x=\"489.5\" y=\"-446.3\">[(None, 128), (None, 128)]</text>\n<polyline fill=\"none\" points=\"402.5,-438.5 576.5,-438.5 \" stroke=\"#000000\"/>\n<text fill=\"#000000\" font-family=\"Times,serif\" font-size=\"14.00\" text-anchor=\"middle\" x=\"489.5\" y=\"-423.3\">[(None, 128), (None, 128)]</text>\n</g>\n<!-- 139965709634248&#45;&gt;139965709635144 -->\n<g class=\"edge\" id=\"edge4\">\n<title>139965709634248-&gt;139965709635144</title>\n<path d=\"M255.3766,-498.3799C270.1152,-488.7475 287.387,-477.4597 302.9375,-467.2967\" fill=\"none\" stroke=\"#000000\"/>\n<polygon fill=\"#000000\" points=\"304.9166,-470.1846 311.3727,-461.784 301.087,-464.325 304.9166,-470.1846\" stroke=\"#000000\"/>\n</g>\n<!-- 139965709634472&#45;&gt;139965709635144 -->\n<g class=\"edge\" id=\"edge5\">\n<title>139965709634472-&gt;139965709635144</title>\n<path d=\"M438.6234,-498.3799C423.8848,-488.7475 406.613,-477.4597 391.0625,-467.2967\" fill=\"none\" stroke=\"#000000\"/>\n<polygon fill=\"#000000\" points=\"392.913,-464.325 382.6273,-461.784 389.0834,-470.1846 392.913,-464.325\" stroke=\"#000000\"/>\n</g>\n<!-- 139965709585656 -->\n<g class=\"node\" id=\"node6\">\n<title>139965709585656</title>\n<polygon fill=\"none\" points=\"0,-332.5 0,-378.5 250,-378.5 250,-332.5 0,-332.5\" stroke=\"#000000\"/>\n<text fill=\"#000000\" font-family=\"Times,serif\" font-size=\"14.00\" text-anchor=\"middle\" x=\"52.5\" y=\"-351.8\">sigma: Lambda</text>\n<polyline fill=\"none\" points=\"105,-332.5 105,-378.5 \" stroke=\"#000000\"/>\n<text fill=\"#000000\" font-family=\"Times,serif\" font-size=\"14.00\" text-anchor=\"middle\" x=\"134\" y=\"-363.3\">input:</text>\n<polyline fill=\"none\" points=\"105,-355.5 163,-355.5 \" stroke=\"#000000\"/>\n<text fill=\"#000000\" font-family=\"Times,serif\" font-size=\"14.00\" text-anchor=\"middle\" x=\"134\" y=\"-340.3\">output:</text>\n<polyline fill=\"none\" points=\"163,-332.5 163,-378.5 \" stroke=\"#000000\"/>\n<text fill=\"#000000\" font-family=\"Times,serif\" font-size=\"14.00\" text-anchor=\"middle\" x=\"206.5\" y=\"-363.3\">(None, 128)</text>\n<polyline fill=\"none\" points=\"163,-355.5 250,-355.5 \" stroke=\"#000000\"/>\n<text fill=\"#000000\" font-family=\"Times,serif\" font-size=\"14.00\" text-anchor=\"middle\" x=\"206.5\" y=\"-340.3\">(None, 128)</text>\n</g>\n<!-- 139965709635144&#45;&gt;139965709585656 -->\n<g class=\"edge\" id=\"edge6\">\n<title>139965709635144-&gt;139965709585656</title>\n<path d=\"M285.4554,-415.4901C257.7865,-405.1454 224.9641,-392.874 196.2364,-382.1334\" fill=\"none\" stroke=\"#000000\"/>\n<polygon fill=\"#000000\" points=\"197.2568,-378.7783 186.6643,-378.5547 194.8053,-385.3351 197.2568,-378.7783\" stroke=\"#000000\"/>\n</g>\n<!-- 139965606349512 -->\n<g class=\"node\" id=\"node9\">\n<title>139965606349512</title>\n<polygon fill=\"none\" points=\"327.5,-166.5 327.5,-212.5 614.5,-212.5 614.5,-166.5 327.5,-166.5\" stroke=\"#000000\"/>\n<text fill=\"#000000\" font-family=\"Times,serif\" font-size=\"14.00\" text-anchor=\"middle\" x=\"355\" y=\"-185.8\">z: Add</text>\n<polyline fill=\"none\" points=\"382.5,-166.5 382.5,-212.5 \" stroke=\"#000000\"/>\n<text fill=\"#000000\" font-family=\"Times,serif\" font-size=\"14.00\" text-anchor=\"middle\" x=\"411.5\" y=\"-197.3\">input:</text>\n<polyline fill=\"none\" points=\"382.5,-189.5 440.5,-189.5 \" stroke=\"#000000\"/>\n<text fill=\"#000000\" font-family=\"Times,serif\" font-size=\"14.00\" text-anchor=\"middle\" x=\"411.5\" y=\"-174.3\">output:</text>\n<polyline fill=\"none\" points=\"440.5,-166.5 440.5,-212.5 \" stroke=\"#000000\"/>\n<text fill=\"#000000\" font-family=\"Times,serif\" font-size=\"14.00\" text-anchor=\"middle\" x=\"527.5\" y=\"-197.3\">[(None, 128), (None, 128)]</text>\n<polyline fill=\"none\" points=\"440.5,-189.5 614.5,-189.5 \" stroke=\"#000000\"/>\n<text fill=\"#000000\" font-family=\"Times,serif\" font-size=\"14.00\" text-anchor=\"middle\" x=\"527.5\" y=\"-174.3\">(None, 128)</text>\n</g>\n<!-- 139965709635144&#45;&gt;139965606349512 -->\n<g class=\"edge\" id=\"edge9\">\n<title>139965709635144-&gt;139965606349512</title>\n<path d=\"M470.1568,-415.4404C506.7182,-405.9409 539.9876,-393.6832 551,-379 585.6667,-332.7778 576.9426,-300.6261 551,-249 545.0545,-237.1683 535.5185,-227.0947 525.0688,-218.7849\" fill=\"none\" stroke=\"#000000\"/>\n<polygon fill=\"#000000\" points=\"527.0649,-215.908 516.9441,-212.7743 522.9017,-221.5354 527.0649,-215.908\" stroke=\"#000000\"/>\n</g>\n<!-- 139965709585376 -->\n<g class=\"node\" id=\"node8\">\n<title>139965709585376</title>\n<polygon fill=\"none\" points=\"202.5,-249.5 202.5,-295.5 541.5,-295.5 541.5,-249.5 202.5,-249.5\" stroke=\"#000000\"/>\n<text fill=\"#000000\" font-family=\"Times,serif\" font-size=\"14.00\" text-anchor=\"middle\" x=\"256\" y=\"-268.8\">z_eps: Multiply</text>\n<polyline fill=\"none\" points=\"309.5,-249.5 309.5,-295.5 \" stroke=\"#000000\"/>\n<text fill=\"#000000\" font-family=\"Times,serif\" font-size=\"14.00\" text-anchor=\"middle\" x=\"338.5\" y=\"-280.3\">input:</text>\n<polyline fill=\"none\" points=\"309.5,-272.5 367.5,-272.5 \" stroke=\"#000000\"/>\n<text fill=\"#000000\" font-family=\"Times,serif\" font-size=\"14.00\" text-anchor=\"middle\" x=\"338.5\" y=\"-257.3\">output:</text>\n<polyline fill=\"none\" points=\"367.5,-249.5 367.5,-295.5 \" stroke=\"#000000\"/>\n<text fill=\"#000000\" font-family=\"Times,serif\" font-size=\"14.00\" text-anchor=\"middle\" x=\"454.5\" y=\"-280.3\">[(None, 128), (None, 128)]</text>\n<polyline fill=\"none\" points=\"367.5,-272.5 541.5,-272.5 \" stroke=\"#000000\"/>\n<text fill=\"#000000\" font-family=\"Times,serif\" font-size=\"14.00\" text-anchor=\"middle\" x=\"454.5\" y=\"-257.3\">(None, 128)</text>\n</g>\n<!-- 139965709585656&#45;&gt;139965709585376 -->\n<g class=\"edge\" id=\"edge7\">\n<title>139965709585656-&gt;139965709585376</title>\n<path d=\"M193.4753,-332.4901C224.5278,-322.0554 261.4142,-309.6604 293.5743,-298.8536\" fill=\"none\" stroke=\"#000000\"/>\n<polygon fill=\"#000000\" points=\"295.0273,-302.0577 303.3915,-295.5547 292.7975,-295.4223 295.0273,-302.0577\" stroke=\"#000000\"/>\n</g>\n<!-- 139965709635536 -->\n<g class=\"node\" id=\"node7\">\n<title>139965709635536</title>\n<polygon fill=\"none\" points=\"268,-332.5 268,-378.5 542,-378.5 542,-332.5 268,-332.5\" stroke=\"#000000\"/>\n<text fill=\"#000000\" font-family=\"Times,serif\" font-size=\"14.00\" text-anchor=\"middle\" x=\"332.5\" y=\"-351.8\">epsilon: InputLayer</text>\n<polyline fill=\"none\" points=\"397,-332.5 397,-378.5 \" stroke=\"#000000\"/>\n<text fill=\"#000000\" font-family=\"Times,serif\" font-size=\"14.00\" text-anchor=\"middle\" x=\"426\" y=\"-363.3\">input:</text>\n<polyline fill=\"none\" points=\"397,-355.5 455,-355.5 \" stroke=\"#000000\"/>\n<text fill=\"#000000\" font-family=\"Times,serif\" font-size=\"14.00\" text-anchor=\"middle\" x=\"426\" y=\"-340.3\">output:</text>\n<polyline fill=\"none\" points=\"455,-332.5 455,-378.5 \" stroke=\"#000000\"/>\n<text fill=\"#000000\" font-family=\"Times,serif\" font-size=\"14.00\" text-anchor=\"middle\" x=\"498.5\" y=\"-363.3\">(None, 128)</text>\n<polyline fill=\"none\" points=\"455,-355.5 542,-355.5 \" stroke=\"#000000\"/>\n<text fill=\"#000000\" font-family=\"Times,serif\" font-size=\"14.00\" text-anchor=\"middle\" x=\"498.5\" y=\"-340.3\">(None, 128)</text>\n</g>\n<!-- 139965709635536&#45;&gt;139965709585376 -->\n<g class=\"edge\" id=\"edge8\">\n<title>139965709635536-&gt;139965709585376</title>\n<path d=\"M395.8077,-332.3799C392.4744,-323.9962 388.6425,-314.3584 385.0408,-305.2996\" fill=\"none\" stroke=\"#000000\"/>\n<polygon fill=\"#000000\" points=\"388.2045,-303.7834 381.2575,-295.784 381.6998,-306.3696 388.2045,-303.7834\" stroke=\"#000000\"/>\n</g>\n<!-- 139965709585376&#45;&gt;139965606349512 -->\n<g class=\"edge\" id=\"edge10\">\n<title>139965709585376-&gt;139965606349512</title>\n<path d=\"M399.577,-249.3799C410.6407,-240.1043 423.5354,-229.2936 435.2999,-219.4304\" fill=\"none\" stroke=\"#000000\"/>\n<polygon fill=\"#000000\" points=\"437.813,-221.8908 443.2275,-212.784 433.3157,-216.5266 437.813,-221.8908\" stroke=\"#000000\"/>\n</g>\n<!-- 139965709585320 -->\n<g class=\"node\" id=\"node11\">\n<title>139965709585320</title>\n<polygon fill=\"none\" points=\"439.5,-83.5 439.5,-129.5 780.5,-129.5 780.5,-83.5 439.5,-83.5\" stroke=\"#000000\"/>\n<text fill=\"#000000\" font-family=\"Times,serif\" font-size=\"14.00\" text-anchor=\"middle\" x=\"497.5\" y=\"-102.8\">z_Y: Concatenate</text>\n<polyline fill=\"none\" points=\"555.5,-83.5 555.5,-129.5 \" stroke=\"#000000\"/>\n<text fill=\"#000000\" font-family=\"Times,serif\" font-size=\"14.00\" text-anchor=\"middle\" x=\"584.5\" y=\"-114.3\">input:</text>\n<polyline fill=\"none\" points=\"555.5,-106.5 613.5,-106.5 \" stroke=\"#000000\"/>\n<text fill=\"#000000\" font-family=\"Times,serif\" font-size=\"14.00\" text-anchor=\"middle\" x=\"584.5\" y=\"-91.3\">output:</text>\n<polyline fill=\"none\" points=\"613.5,-83.5 613.5,-129.5 \" stroke=\"#000000\"/>\n<text fill=\"#000000\" font-family=\"Times,serif\" font-size=\"14.00\" text-anchor=\"middle\" x=\"697\" y=\"-114.3\">[(None, 128), (None, 10)]</text>\n<polyline fill=\"none\" points=\"613.5,-106.5 780.5,-106.5 \" stroke=\"#000000\"/>\n<text fill=\"#000000\" font-family=\"Times,serif\" font-size=\"14.00\" text-anchor=\"middle\" x=\"697\" y=\"-91.3\">(None, 138)</text>\n</g>\n<!-- 139965606349512&#45;&gt;139965709585320 -->\n<g class=\"edge\" id=\"edge11\">\n<title>139965606349512-&gt;139965709585320</title>\n<path d=\"M509.7192,-166.3799C525.9999,-156.6583 545.1046,-145.2505 562.2465,-135.0147\" fill=\"none\" stroke=\"#000000\"/>\n<polygon fill=\"#000000\" points=\"564.2149,-137.9159 571.0063,-129.784 560.6261,-131.9058 564.2149,-137.9159\" stroke=\"#000000\"/>\n</g>\n<!-- 139965606349288 -->\n<g class=\"node\" id=\"node10\">\n<title>139965606349288</title>\n<polygon fill=\"none\" points=\"632.5,-166.5 632.5,-212.5 867.5,-212.5 867.5,-166.5 632.5,-166.5\" stroke=\"#000000\"/>\n<text fill=\"#000000\" font-family=\"Times,serif\" font-size=\"14.00\" text-anchor=\"middle\" x=\"681\" y=\"-185.8\">Y: InputLayer</text>\n<polyline fill=\"none\" points=\"729.5,-166.5 729.5,-212.5 \" stroke=\"#000000\"/>\n<text fill=\"#000000\" font-family=\"Times,serif\" font-size=\"14.00\" text-anchor=\"middle\" x=\"758.5\" y=\"-197.3\">input:</text>\n<polyline fill=\"none\" points=\"729.5,-189.5 787.5,-189.5 \" stroke=\"#000000\"/>\n<text fill=\"#000000\" font-family=\"Times,serif\" font-size=\"14.00\" text-anchor=\"middle\" x=\"758.5\" y=\"-174.3\">output:</text>\n<polyline fill=\"none\" points=\"787.5,-166.5 787.5,-212.5 \" stroke=\"#000000\"/>\n<text fill=\"#000000\" font-family=\"Times,serif\" font-size=\"14.00\" text-anchor=\"middle\" x=\"827.5\" y=\"-197.3\">(None, 10)</text>\n<polyline fill=\"none\" points=\"787.5,-189.5 867.5,-189.5 \" stroke=\"#000000\"/>\n<text fill=\"#000000\" font-family=\"Times,serif\" font-size=\"14.00\" text-anchor=\"middle\" x=\"827.5\" y=\"-174.3\">(None, 10)</text>\n</g>\n<!-- 139965606349288&#45;&gt;139965709585320 -->\n<g class=\"edge\" id=\"edge12\">\n<title>139965606349288-&gt;139965709585320</title>\n<path d=\"M711.0022,-166.3799C694.6044,-156.6583 675.3623,-145.2505 658.0971,-135.0147\" fill=\"none\" stroke=\"#000000\"/>\n<polygon fill=\"#000000\" points=\"659.6611,-131.8731 649.2742,-129.784 656.0912,-137.8944 659.6611,-131.8731\" stroke=\"#000000\"/>\n</g>\n<!-- 139965606441704 -->\n<g class=\"node\" id=\"node12\">\n<title>139965606441704</title>\n<polygon fill=\"none\" points=\"473,-.5 473,-46.5 747,-46.5 747,-.5 473,-.5\" stroke=\"#000000\"/>\n<text fill=\"#000000\" font-family=\"Times,serif\" font-size=\"14.00\" text-anchor=\"middle\" x=\"537.5\" y=\"-19.8\">decoder: Sequential</text>\n<polyline fill=\"none\" points=\"602,-.5 602,-46.5 \" stroke=\"#000000\"/>\n<text fill=\"#000000\" font-family=\"Times,serif\" font-size=\"14.00\" text-anchor=\"middle\" x=\"631\" y=\"-31.3\">input:</text>\n<polyline fill=\"none\" points=\"602,-23.5 660,-23.5 \" stroke=\"#000000\"/>\n<text fill=\"#000000\" font-family=\"Times,serif\" font-size=\"14.00\" text-anchor=\"middle\" x=\"631\" y=\"-8.3\">output:</text>\n<polyline fill=\"none\" points=\"660,-.5 660,-46.5 \" stroke=\"#000000\"/>\n<text fill=\"#000000\" font-family=\"Times,serif\" font-size=\"14.00\" text-anchor=\"middle\" x=\"703.5\" y=\"-31.3\">(None, 138)</text>\n<polyline fill=\"none\" points=\"660,-23.5 747,-23.5 \" stroke=\"#000000\"/>\n<text fill=\"#000000\" font-family=\"Times,serif\" font-size=\"14.00\" text-anchor=\"middle\" x=\"703.5\" y=\"-8.3\">(None, 794)</text>\n</g>\n<!-- 139965709585320&#45;&gt;139965606441704 -->\n<g class=\"edge\" id=\"edge13\">\n<title>139965709585320-&gt;139965606441704</title>\n<path d=\"M610,-83.3799C610,-75.1745 610,-65.7679 610,-56.8786\" fill=\"none\" stroke=\"#000000\"/>\n<polygon fill=\"#000000\" points=\"613.5001,-56.784 610,-46.784 606.5001,-56.784 613.5001,-56.784\" stroke=\"#000000\"/>\n</g>\n</g>\n</svg>"
          },
          "metadata": {
            "tags": []
          },
          "execution_count": 20
        }
      ]
    },
    {
      "cell_type": "markdown",
      "metadata": {
        "id": "rq6ituXQ8kxm",
        "colab_type": "text"
      },
      "source": [
        "# **Model fitting**"
      ]
    },
    {
      "cell_type": "code",
      "metadata": {
        "id": "4WTEgt9g8kxv",
        "colab_type": "code",
        "colab": {}
      },
      "source": [
        "#Data extraction\n",
        "(x_train, y_train), (x_test, y_test) = mnist.load_data()\n",
        "x_train = x_train.reshape(-1, original_dim-10) / 255. # NORMALIZATION\n",
        "x_test = x_test.reshape(-1, original_dim-10) / 255.\n",
        "#creating one-hot vector for each digit\n",
        "Y_train=np.zeros((60000,10))\n",
        "\n",
        "\n",
        "for i in range(60000):\n",
        "    Y_train[i,y_train[i]]=1\n",
        "\n",
        "Y_test=np.zeros((10000,10))\n",
        "for i in range(10000):\n",
        "    Y_test[i,y_test[i]]=1\n",
        "    \n",
        "#Concatinationg the pixels of the digit with Y the one-hot vector representing the Class of the digit \n",
        "x_train=np.concatenate((Y_train,x_train),axis=1)\n",
        "x_test=np.concatenate((Y_test,x_test),axis=1)\n"
      ],
      "execution_count": 0,
      "outputs": []
    },
    {
      "cell_type": "code",
      "metadata": {
        "id": "A9teWhEDNRmP",
        "colab_type": "code",
        "colab": {
          "base_uri": "https://localhost:8080/",
          "height": 35
        },
        "outputId": "e3000a09-396d-494c-b7fb-a805bec2e1eb"
      },
      "source": [
        "x_train.shape[:]"
      ],
      "execution_count": 44,
      "outputs": [
        {
          "output_type": "execute_result",
          "data": {
            "text/plain": [
              "(60000, 794)"
            ]
          },
          "metadata": {
            "tags": []
          },
          "execution_count": 44
        }
      ]
    },
    {
      "cell_type": "code",
      "metadata": {
        "id": "-pEj2u-VOG-D",
        "colab_type": "code",
        "colab": {
          "base_uri": "https://localhost:8080/",
          "height": 35
        },
        "outputId": "77edbb43-a4a3-49e9-a97e-8a57061571e4"
      },
      "source": [
        "Y_train.shape[:]"
      ],
      "execution_count": 45,
      "outputs": [
        {
          "output_type": "execute_result",
          "data": {
            "text/plain": [
              "(60000, 10)"
            ]
          },
          "metadata": {
            "tags": []
          },
          "execution_count": 45
        }
      ]
    },
    {
      "cell_type": "code",
      "metadata": {
        "id": "L9K0qrp08kyA",
        "colab_type": "code",
        "outputId": "1400ce6c-090c-4b03-ab08-199561f6b989",
        "colab": {
          "base_uri": "https://localhost:8080/",
          "height": 1000
        }
      },
      "source": [
        "#Training the VAE\n",
        "hist = vae.fit(\n",
        "    x_train,\n",
        "    x_train,\n",
        "    shuffle=True,\n",
        "    epochs=epochs,\n",
        "    batch_size=batch_size,\n",
        "    validation_data=(x_test,x_test)\n",
        ")"
      ],
      "execution_count": 24,
      "outputs": [
        {
          "output_type": "stream",
          "text": [
            "Train on 60000 samples, validate on 10000 samples\n",
            "Epoch 1/50\n",
            "60000/60000 [==============================] - 9s 155us/step - loss: 164.6780 - val_loss: 140.1856\n",
            "Epoch 2/50\n",
            "60000/60000 [==============================] - 9s 148us/step - loss: 133.8191 - val_loss: 127.7965\n",
            "Epoch 3/50\n",
            "60000/60000 [==============================] - 9s 150us/step - loss: 123.5853 - val_loss: 118.9121\n",
            "Epoch 4/50\n",
            "60000/60000 [==============================] - 9s 150us/step - loss: 117.0416 - val_loss: 113.6606\n",
            "Epoch 5/50\n",
            "60000/60000 [==============================] - 9s 151us/step - loss: 112.9421 - val_loss: 111.0126\n",
            "Epoch 6/50\n",
            "60000/60000 [==============================] - 9s 150us/step - loss: 110.2710 - val_loss: 108.3041\n",
            "Epoch 7/50\n",
            "60000/60000 [==============================] - 9s 149us/step - loss: 108.4764 - val_loss: 107.4796\n",
            "Epoch 8/50\n",
            "60000/60000 [==============================] - 9s 148us/step - loss: 107.2865 - val_loss: 105.8047\n",
            "Epoch 9/50\n",
            "60000/60000 [==============================] - 9s 148us/step - loss: 106.3964 - val_loss: 105.0252\n",
            "Epoch 10/50\n",
            "60000/60000 [==============================] - 9s 149us/step - loss: 105.7319 - val_loss: 104.9141\n",
            "Epoch 11/50\n",
            "60000/60000 [==============================] - 9s 149us/step - loss: 105.2034 - val_loss: 103.6802\n",
            "Epoch 12/50\n",
            "60000/60000 [==============================] - 9s 149us/step - loss: 104.7430 - val_loss: 104.3372\n",
            "Epoch 13/50\n",
            "60000/60000 [==============================] - 9s 151us/step - loss: 104.3550 - val_loss: 103.4566\n",
            "Epoch 14/50\n",
            "60000/60000 [==============================] - 9s 158us/step - loss: 104.0338 - val_loss: 103.7441\n",
            "Epoch 15/50\n",
            "60000/60000 [==============================] - 9s 153us/step - loss: 103.7752 - val_loss: 102.8307\n",
            "Epoch 16/50\n",
            "60000/60000 [==============================] - 9s 151us/step - loss: 103.5184 - val_loss: 103.3577\n",
            "Epoch 17/50\n",
            "60000/60000 [==============================] - 9s 151us/step - loss: 103.3278 - val_loss: 102.6386\n",
            "Epoch 18/50\n",
            "60000/60000 [==============================] - 9s 149us/step - loss: 103.1280 - val_loss: 103.2038\n",
            "Epoch 19/50\n",
            "60000/60000 [==============================] - 9s 149us/step - loss: 102.9170 - val_loss: 102.3359\n",
            "Epoch 20/50\n",
            "60000/60000 [==============================] - 9s 151us/step - loss: 102.7852 - val_loss: 102.5611\n",
            "Epoch 21/50\n",
            "60000/60000 [==============================] - 9s 151us/step - loss: 102.6226 - val_loss: 102.3554\n",
            "Epoch 22/50\n",
            "60000/60000 [==============================] - 9s 151us/step - loss: 102.5175 - val_loss: 102.1573\n",
            "Epoch 23/50\n",
            "60000/60000 [==============================] - 9s 152us/step - loss: 102.3481 - val_loss: 102.8224\n",
            "Epoch 24/50\n",
            "60000/60000 [==============================] - 9s 154us/step - loss: 102.2685 - val_loss: 102.0797\n",
            "Epoch 25/50\n",
            "60000/60000 [==============================] - 9s 151us/step - loss: 102.1409 - val_loss: 101.4631\n",
            "Epoch 26/50\n",
            "60000/60000 [==============================] - 9s 151us/step - loss: 102.0501 - val_loss: 102.3778\n",
            "Epoch 27/50\n",
            "60000/60000 [==============================] - 9s 151us/step - loss: 101.9780 - val_loss: 102.4174\n",
            "Epoch 28/50\n",
            "60000/60000 [==============================] - 9s 149us/step - loss: 101.8836 - val_loss: 101.2131\n",
            "Epoch 29/50\n",
            "60000/60000 [==============================] - 9s 149us/step - loss: 101.8110 - val_loss: 101.4096\n",
            "Epoch 30/50\n",
            "60000/60000 [==============================] - 9s 149us/step - loss: 101.6847 - val_loss: 101.2585\n",
            "Epoch 31/50\n",
            "60000/60000 [==============================] - 9s 149us/step - loss: 101.5964 - val_loss: 101.6839\n",
            "Epoch 32/50\n",
            "60000/60000 [==============================] - 9s 149us/step - loss: 101.5363 - val_loss: 101.3917\n",
            "Epoch 33/50\n",
            "60000/60000 [==============================] - 9s 150us/step - loss: 101.4944 - val_loss: 101.2363\n",
            "Epoch 34/50\n",
            "60000/60000 [==============================] - 9s 149us/step - loss: 101.4070 - val_loss: 101.1207\n",
            "Epoch 35/50\n",
            "60000/60000 [==============================] - 9s 148us/step - loss: 101.3290 - val_loss: 100.9084\n",
            "Epoch 36/50\n",
            "60000/60000 [==============================] - 9s 149us/step - loss: 101.2607 - val_loss: 101.0211\n",
            "Epoch 37/50\n",
            "60000/60000 [==============================] - 9s 150us/step - loss: 101.2689 - val_loss: 101.6564\n",
            "Epoch 38/50\n",
            "60000/60000 [==============================] - 9s 150us/step - loss: 101.1800 - val_loss: 100.4928\n",
            "Epoch 39/50\n",
            "60000/60000 [==============================] - 9s 149us/step - loss: 101.1563 - val_loss: 101.1062\n",
            "Epoch 40/50\n",
            "60000/60000 [==============================] - 9s 151us/step - loss: 101.0889 - val_loss: 100.6743\n",
            "Epoch 41/50\n",
            "60000/60000 [==============================] - 9s 150us/step - loss: 101.0000 - val_loss: 100.6042\n",
            "Epoch 42/50\n",
            "60000/60000 [==============================] - 9s 148us/step - loss: 100.9931 - val_loss: 101.0431\n",
            "Epoch 43/50\n",
            "60000/60000 [==============================] - 9s 149us/step - loss: 100.9577 - val_loss: 100.8052\n",
            "Epoch 44/50\n",
            "60000/60000 [==============================] - 9s 151us/step - loss: 100.9280 - val_loss: 100.6707\n",
            "Epoch 45/50\n",
            "60000/60000 [==============================] - 9s 152us/step - loss: 100.8943 - val_loss: 100.4875\n",
            "Epoch 46/50\n",
            "60000/60000 [==============================] - 9s 149us/step - loss: 100.8122 - val_loss: 100.6532\n",
            "Epoch 47/50\n",
            "60000/60000 [==============================] - 9s 151us/step - loss: 100.7953 - val_loss: 100.3240\n",
            "Epoch 48/50\n",
            "60000/60000 [==============================] - 9s 153us/step - loss: 100.7463 - val_loss: 100.9101\n",
            "Epoch 49/50\n",
            "60000/60000 [==============================] - 9s 153us/step - loss: 100.7064 - val_loss: 100.3972\n",
            "Epoch 50/50\n",
            "60000/60000 [==============================] - 9s 150us/step - loss: 100.6862 - val_loss: 100.7080\n"
          ],
          "name": "stdout"
        }
      ]
    },
    {
      "cell_type": "markdown",
      "metadata": {
        "id": "3UBEL23z8kyL",
        "colab_type": "text"
      },
      "source": [
        "# **Model Evaluation**"
      ]
    },
    {
      "cell_type": "markdown",
      "metadata": {
        "id": "CTvaUEa9MzXZ",
        "colab_type": "text"
      },
      "source": [
        "Training a model means minimizing a loss function. However, in variational inference, we maximize the ELBO (which is not a loss function). Hence, this leads to awkwardness where we minimize the the **NEGATIVE** ELBO, as optimizers in nerual networks only support minimization."
      ]
    },
    {
      "cell_type": "code",
      "metadata": {
        "id": "M1Oyv4DzLvzi",
        "colab_type": "code",
        "colab": {}
      },
      "source": [
        "%matplotlib inline"
      ],
      "execution_count": 0,
      "outputs": []
    },
    {
      "cell_type": "code",
      "metadata": {
        "id": "MAlVRpDE8kyN",
        "colab_type": "code",
        "outputId": "619d451b-ae14-4c1e-83a8-25048c39f415",
        "colab": {
          "base_uri": "https://localhost:8080/",
          "height": 263
        }
      },
      "source": [
        "golden_size = lambda width: (width, 2. * width / (1 + np.sqrt(5)))\n",
        "#NELBO\n",
        "fig, ax = plt.subplots(figsize=golden_size(6))\n",
        "\n",
        "hist_df = pd.DataFrame(hist.history)\n",
        "hist_df.plot(ax=ax)\n",
        "\n",
        "ax.set_ylabel('NELBO')\n",
        "ax.set_xlabel('# epochs')\n",
        "\n",
        "ax.set_ylim(.99*hist_df[1:].values.min(), \n",
        "            1.1*hist_df[1:].values.max())\n",
        "\n",
        "\n",
        "plt.show()"
      ],
      "execution_count": 41,
      "outputs": [
        {
          "output_type": "display_data",
          "data": {
            "image/png": "[encoded data removed]",
            "text/plain": [
              "<Figure size 432x266.991 with 1 Axes>"
            ]
          },
          "metadata": {
            "tags": [],
            "needs_background": "light"
          }
        }
      ]
    }
  ]
}